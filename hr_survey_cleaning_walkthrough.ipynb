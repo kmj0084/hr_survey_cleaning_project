{
 "cells": [
  {
   "cell_type": "markdown",
   "id": "3edd4795",
   "metadata": {},
   "source": [
    "# 🧹 HR Survey Cleaning Project\n",
    "\n",
    "This notebook demonstrates the end-to-end process of cleaning and analyzing HR survey data using Python and SQLite."
   ]
  },
  {
   "cell_type": "code",
   "execution_count": null,
   "id": "fca72391",
   "metadata": {},
   "outputs": [],
   "source": [
    "import pandas as pd\n",
    "import sqlite3\n",
    "import matplotlib.pyplot as plt\n",
    "import seaborn as sns\n",
    "\n",
    "# Load data\n",
    "conn = sqlite3.connect('hr_survey_cleaned.db')"
   ]
  },
  {
   "cell_type": "code",
   "execution_count": null,
   "id": "d897a356",
   "metadata": {},
   "outputs": [],
   "source": [
    "# Show table names\n",
    "conn.execute(\".tables\")"
   ]
  },
  {
   "cell_type": "code",
   "execution_count": null,
   "id": "b1253ff9",
   "metadata": {},
   "outputs": [],
   "source": [
    "# Load cleaned data into DataFrame\n",
    "df = pd.read_sql_query(\"SELECT * FROM hr_survey_cleaned\", conn)\n",
    "df.head()"
   ]
  },
  {
   "cell_type": "code",
   "execution_count": null,
   "id": "fac8f883",
   "metadata": {},
   "outputs": [],
   "source": [
    "# Summary statistics\n",
    "df.describe(include='all')"
   ]
  },
  {
   "cell_type": "code",
   "execution_count": null,
   "id": "281d8cf1",
   "metadata": {},
   "outputs": [],
   "source": [
    "# Visualize satisfaction distribution\n",
    "sns.countplot(data=df, x='satisfaction')\n",
    "plt.title('Employee Satisfaction Levels')\n",
    "plt.show()"
   ]
  },
  {
   "cell_type": "code",
   "execution_count": null,
   "id": "3cb1fc32",
   "metadata": {},
   "outputs": [],
   "source": [
    "# Recommend to friend analysis\n",
    "sns.countplot(data=df, x='recommend_to_friend', hue='satisfaction')\n",
    "plt.title('Recommendation vs Satisfaction')\n",
    "plt.show()"
   ]
  }
 ],
 "metadata": {},
 "nbformat": 4,
 "nbformat_minor": 5
}
